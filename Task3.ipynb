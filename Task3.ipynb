{
  "nbformat": 4,
  "nbformat_minor": 0,
  "metadata": {
    "kernelspec": {
      "name": "python3",
      "display_name": "Python 3"
    },
    "language_info": {
      "codemirror_mode": {
        "name": "ipython",
        "version": 3
      },
      "file_extension": ".py",
      "mimetype": "text/x-python",
      "name": "python",
      "nbconvert_exporter": "python",
      "pygments_lexer": "ipython3",
      "version": "3.7.3"
    },
    "colab": {
      "name": "Task3.ipynb",
      "provenance": []
    }
  },
  "cells": [
    {
      "cell_type": "code",
      "metadata": {
        "id": "zHZWt7A8rXOx",
        "colab_type": "code",
        "colab": {}
      },
      "source": [
        "! pip install ampligraph"
      ],
      "execution_count": 0,
      "outputs": []
    },
    {
      "cell_type": "code",
      "metadata": {
        "id": "qnSW2WJqrJcy",
        "colab_type": "code",
        "outputId": "2f9ca974-b466-4935-a3d9-abdb4851b6f7",
        "colab": {
          "base_uri": "https://localhost:8080/",
          "height": 34
        }
      },
      "source": [
        "import numpy as np\n",
        "import pandas as pd\n",
        "import ampligraph\n",
        "\n",
        "ampligraph.__version__"
      ],
      "execution_count": 6,
      "outputs": [
        {
          "output_type": "execute_result",
          "data": {
            "text/plain": [
              "'1.3.1'"
            ]
          },
          "metadata": {
            "tags": []
          },
          "execution_count": 6
        }
      ]
    },
    {
      "cell_type": "code",
      "metadata": {
        "id": "xWlfi6pZrJdO",
        "colab_type": "code",
        "outputId": "44647f04-2aed-4948-fcf1-b470f9ef069f",
        "colab": {
          "base_uri": "https://localhost:8080/",
          "height": 139
        }
      },
      "source": [
        "import requests\n",
        "from ampligraph.datasets import load_from_csv\n",
        "\n",
        "url = 'https://ampligraph.s3-eu-west-1.amazonaws.com/datasets/GoT.csv'\n",
        "open('GoT.csv', 'wb').write(requests.get(url).content)\n",
        "X = load_from_csv('.', 'GoT.csv', sep=',')\n",
        "X[:5, ]"
      ],
      "execution_count": 7,
      "outputs": [
        {
          "output_type": "execute_result",
          "data": {
            "text/plain": [
              "array([['Smithyton', 'SEAT_OF', 'House Shermer of Smithyton'],\n",
              "       ['House Mormont of Bear Island', 'LED_BY', 'Maege Mormont'],\n",
              "       ['Margaery Tyrell', 'SPOUSE', 'Joffrey Baratheon'],\n",
              "       ['Maron Nymeros Martell', 'ALLIED_WITH',\n",
              "        'House Nymeros Martell of Sunspear'],\n",
              "       ['House Gargalen of Salt Shore', 'IN_REGION', 'Dorne']],\n",
              "      dtype=object)"
            ]
          },
          "metadata": {
            "tags": []
          },
          "execution_count": 7
        }
      ]
    },
    {
      "cell_type": "code",
      "metadata": {
        "id": "QyuT7FS-rJdg",
        "colab_type": "code",
        "outputId": "7d69b7f7-0c91-4d3f-f691-068b3b4ece86",
        "colab": {
          "base_uri": "https://localhost:8080/",
          "height": 52
        }
      },
      "source": [
        "entities = np.unique(np.concatenate([X[:, 0], X[:, 2]]))\n",
        "entities"
      ],
      "execution_count": 9,
      "outputs": [
        {
          "output_type": "execute_result",
          "data": {
            "text/plain": [
              "array(['Abelar Hightower', 'Acorn Hall', 'Addam Frey', ..., 'the Antlers',\n",
              "       'the Paps', 'unnamed tower'], dtype=object)"
            ]
          },
          "metadata": {
            "tags": []
          },
          "execution_count": 9
        }
      ]
    },
    {
      "cell_type": "code",
      "metadata": {
        "id": "kSSwi8hurJdu",
        "colab_type": "code",
        "outputId": "0b02bdb0-0e93-4ff6-b1ce-1e3d7f9bf940",
        "colab": {
          "base_uri": "https://localhost:8080/",
          "height": 69
        }
      },
      "source": [
        "relations = np.unique(X[:, 1])\n",
        "relations"
      ],
      "execution_count": 8,
      "outputs": [
        {
          "output_type": "execute_result",
          "data": {
            "text/plain": [
              "array(['ALLIED_WITH', 'BRANCH_OF', 'FOUNDED_BY', 'HEIR_TO', 'IN_REGION',\n",
              "       'LED_BY', 'PARENT_OF', 'SEAT_OF', 'SPOUSE', 'SWORN_TO'],\n",
              "      dtype=object)"
            ]
          },
          "metadata": {
            "tags": []
          },
          "execution_count": 8
        }
      ]
    },
    {
      "cell_type": "code",
      "metadata": {
        "id": "Z6pBIKqarJd8",
        "colab_type": "code",
        "colab": {}
      },
      "source": [
        "from ampligraph.evaluation import train_test_split_no_unseen \n",
        "\n",
        "X_train, X_test = train_test_split_no_unseen(X, test_size=100) "
      ],
      "execution_count": 0,
      "outputs": []
    },
    {
      "cell_type": "code",
      "metadata": {
        "id": "0BM21hHgrJeI",
        "colab_type": "code",
        "outputId": "3c142a4f-f114-40f0-8ce6-f256fd139ad3",
        "colab": {
          "base_uri": "https://localhost:8080/",
          "height": 52
        }
      },
      "source": [
        "print('Train set size: ', X_train.shape)\n",
        "print('Test set size: ', X_test.shape)"
      ],
      "execution_count": 11,
      "outputs": [
        {
          "output_type": "stream",
          "text": [
            "Train set size:  (3075, 3)\n",
            "Test set size:  (100, 3)\n"
          ],
          "name": "stdout"
        }
      ]
    },
    {
      "cell_type": "code",
      "metadata": {
        "id": "Z7eWZw075CSG",
        "colab_type": "code",
        "colab": {}
      },
      "source": [
        "! pip install tensorflow==1.13.2"
      ],
      "execution_count": 0,
      "outputs": []
    },
    {
      "cell_type": "code",
      "metadata": {
        "id": "Rl8ecDRArJeR",
        "colab_type": "code",
        "colab": {}
      },
      "source": [
        "from ampligraph.latent_features import RandomBaseline\n",
        "from ampligraph.latent_features import TransE\n",
        "from ampligraph.latent_features import DistMult\n",
        "from ampligraph.latent_features import ComplEx\n",
        "from ampligraph.latent_features import HolE"
      ],
      "execution_count": 0,
      "outputs": []
    },
    {
      "cell_type": "markdown",
      "metadata": {
        "id": "80-GL3h5rJeZ",
        "colab_type": "text"
      },
      "source": [
        "Lets go through the parameters to understand what's going on:\n",
        "\n",
        "- **`k`** : the dimensionality of the embedding space\n",
        "- **`eta`** ($\\eta$) : the number of negative, or false triples that must be generated at training runtime for each positive, or true triple\n",
        "- **`batches_count`** : the number of batches in which the training set is split during the training loop. If you are having into low memory issues than settings this to a higher number may help.\n",
        "- **`epochs`** : the number of epochs to train the model for.\n",
        "- **`optimizer`** : the Adam optimizer, with a learning rate of 1e-3 set via the *optimizer_params* kwarg.\n",
        "- **`loss`** : pairwise loss, with a margin of 0.5 set via the *loss_params* kwarg.\n",
        "- **`regularizer`** : $L_p$ regularization with $p=2$, i.e. l2 regularization. $\\lambda$ = 1e-5, set via the *regularizer_params* kwarg. \n",
        "\n",
        "Now we can instantiate the model:\n"
      ]
    },
    {
      "cell_type": "code",
      "metadata": {
        "id": "lDOqrUD3_9fB",
        "colab_type": "code",
        "colab": {}
      },
      "source": [
        "def getModel(m):\n",
        "  if m == RandomBaseline:\n",
        "    return m()\n",
        "  else:\n",
        "    return m(\n",
        "             seed=0, \n",
        "             epochs=200, \n",
        "             k=150, \n",
        "             eta=5,\n",
        "             optimizer='adam', \n",
        "             optimizer_params={'lr':1e-3},\n",
        "             loss='multiclass_nll', \n",
        "             regularizer='LP', \n",
        "             regularizer_params={'p':3, 'lambda':1e-5}, \n",
        "             verbose=True\n",
        "             )"
      ],
      "execution_count": 0,
      "outputs": []
    },
    {
      "cell_type": "code",
      "metadata": {
        "id": "f4mjEzOhrJec",
        "colab_type": "code",
        "outputId": "94c5e98b-8c89-47f8-88fd-df98a075101e",
        "colab": {
          "base_uri": "https://localhost:8080/",
          "height": 54
        }
      },
      "source": [
        "modelRandomBaseline = getModel(RandomBaseline)\n",
        "modelTransE = getModel(TransE)\n",
        "modelComplEx = getModel(ComplEx)\n",
        "modelDistMult = getModel(DistMult)\n",
        "modelHolE = getModel(HolE)"
      ],
      "execution_count": 15,
      "outputs": [
        {
          "output_type": "stream",
          "text": [
            "WARNING - All triples will be processed in the same batch (batches_count=1). When processing large graphs it is recommended to batch the input knowledge graph instead.\n"
          ],
          "name": "stdout"
        }
      ]
    },
    {
      "cell_type": "code",
      "metadata": {
        "id": "caX4JlF2_KJ-",
        "colab_type": "code",
        "colab": {}
      },
      "source": [
        "positives_filter = X"
      ],
      "execution_count": 0,
      "outputs": []
    },
    {
      "cell_type": "code",
      "metadata": {
        "id": "HDVHJ1LyBA79",
        "colab_type": "code",
        "outputId": "c47866f8-b4b4-4b6b-dede-ca397591ac79",
        "colab": {
          "base_uri": "https://localhost:8080/",
          "height": 34
        }
      },
      "source": [
        "%tensorflow_version 1.x"
      ],
      "execution_count": 17,
      "outputs": [
        {
          "output_type": "stream",
          "text": [
            "TensorFlow is already loaded. Please restart the runtime to change versions.\n"
          ],
          "name": "stdout"
        }
      ]
    },
    {
      "cell_type": "code",
      "metadata": {
        "id": "1BICuwKF6ib3",
        "colab_type": "code",
        "colab": {}
      },
      "source": [
        "import tensorflow as tf\n",
        "tf.logging.set_verbosity(tf.logging.ERROR)"
      ],
      "execution_count": 0,
      "outputs": []
    },
    {
      "cell_type": "code",
      "metadata": {
        "id": "BDh_l_dmGe6o",
        "colab_type": "code",
        "colab": {}
      },
      "source": [
        "from ampligraph.latent_features import save_model, restore_model"
      ],
      "execution_count": 0,
      "outputs": []
    },
    {
      "cell_type": "code",
      "metadata": {
        "id": "N47MSnuX__Fi",
        "colab_type": "code",
        "colab": {}
      },
      "source": [
        "modelRandomBaseline.fit(X_train, early_stopping = False)"
      ],
      "execution_count": 0,
      "outputs": []
    },
    {
      "cell_type": "code",
      "metadata": {
        "id": "wlmtijk6Gl8X",
        "colab_type": "code",
        "colab": {}
      },
      "source": [
        "save_model(modelRandomBaseline, './modelRandomBaseline.pkl')"
      ],
      "execution_count": 0,
      "outputs": []
    },
    {
      "cell_type": "code",
      "metadata": {
        "id": "dxqndH_M_uRl",
        "colab_type": "code",
        "outputId": "ce43d3c8-14dd-4d2f-c326-74879a6649c3",
        "colab": {
          "base_uri": "https://localhost:8080/",
          "height": 34
        }
      },
      "source": [
        "modelTransE.fit(X_train, early_stopping = False)"
      ],
      "execution_count": 23,
      "outputs": [
        {
          "output_type": "stream",
          "text": [
            "Average Loss:   0.019163: 100%|██████████| 200/200 [02:47<00:00,  1.20epoch/s]\n"
          ],
          "name": "stderr"
        }
      ]
    },
    {
      "cell_type": "code",
      "metadata": {
        "id": "n8jsAYpDGoDw",
        "colab_type": "code",
        "colab": {}
      },
      "source": [
        "save_model(modelTransE, './modelTransE.pkl')"
      ],
      "execution_count": 0,
      "outputs": []
    },
    {
      "cell_type": "code",
      "metadata": {
        "id": "83_-PQbd_yIp",
        "colab_type": "code",
        "outputId": "8ccbfdb5-5304-4765-f862-29f613631685",
        "colab": {
          "base_uri": "https://localhost:8080/",
          "height": 34
        }
      },
      "source": [
        "modelComplEx.fit(X_train, early_stopping = False)"
      ],
      "execution_count": 26,
      "outputs": [
        {
          "output_type": "stream",
          "text": [
            "Average Loss:   0.017603: 100%|██████████| 200/200 [05:16<00:00,  1.58s/epoch]\n"
          ],
          "name": "stderr"
        }
      ]
    },
    {
      "cell_type": "code",
      "metadata": {
        "id": "gZfrkXsjGpM4",
        "colab_type": "code",
        "colab": {}
      },
      "source": [
        "save_model(modelComplEx, './modelComplEx.pkl')"
      ],
      "execution_count": 0,
      "outputs": []
    },
    {
      "cell_type": "code",
      "metadata": {
        "id": "UM9OE4iy_3AO",
        "colab_type": "code",
        "outputId": "f7e64e14-5ab1-4e2a-e363-476204b36f6e",
        "colab": {
          "base_uri": "https://localhost:8080/",
          "height": 34
        }
      },
      "source": [
        "modelDistMult.fit(X_train, early_stopping = False)"
      ],
      "execution_count": 29,
      "outputs": [
        {
          "output_type": "stream",
          "text": [
            "Average Loss:   0.016550: 100%|██████████| 200/200 [02:51<00:00,  1.16epoch/s]\n"
          ],
          "name": "stderr"
        }
      ]
    },
    {
      "cell_type": "code",
      "metadata": {
        "id": "UdSOj8ccGqFn",
        "colab_type": "code",
        "colab": {}
      },
      "source": [
        "save_model(modelDistMult, './modelDistMult.pkl')"
      ],
      "execution_count": 0,
      "outputs": []
    },
    {
      "cell_type": "code",
      "metadata": {
        "id": "bUthBfZ-_4tx",
        "colab_type": "code",
        "outputId": "b1e3e644-3ec2-402b-ee9a-0d72d5e96899",
        "colab": {
          "base_uri": "https://localhost:8080/",
          "height": 34
        }
      },
      "source": [
        "modelHolE.fit(X_train, early_stopping = False)"
      ],
      "execution_count": 32,
      "outputs": [
        {
          "output_type": "stream",
          "text": [
            "Average Loss:   0.080941: 100%|██████████| 200/200 [05:15<00:00,  1.58s/epoch]\n"
          ],
          "name": "stderr"
        }
      ]
    },
    {
      "cell_type": "code",
      "metadata": {
        "id": "kUUJy0SmGq-G",
        "colab_type": "code",
        "colab": {}
      },
      "source": [
        "save_model(modelHolE, './modelHolE.pkl')"
      ],
      "execution_count": 0,
      "outputs": []
    },
    {
      "cell_type": "code",
      "metadata": {
        "id": "35buYIDYFKDQ",
        "colab_type": "code",
        "colab": {}
      },
      "source": [
        "#modelRandomBaseline = restore_model('./RandomBaseline.pkl')\n",
        "#modelTransE = restore_model('./TransE.pkl')\n",
        "#modelComplEx = restore_model('./ComplEx.pkl')\n",
        "#modelDistMult = restore_model('./DistMult.pkl')\n",
        "#modelHolE = restore_model('./HolE.pkl')"
      ],
      "execution_count": 0,
      "outputs": []
    },
    {
      "cell_type": "code",
      "metadata": {
        "id": "FF5xTjKrrJfr",
        "colab_type": "code",
        "colab": {}
      },
      "source": [
        "from ampligraph.evaluation import evaluate_performance"
      ],
      "execution_count": 0,
      "outputs": []
    },
    {
      "cell_type": "code",
      "metadata": {
        "id": "g83S-HcKKHDM",
        "colab_type": "code",
        "colab": {}
      },
      "source": [
        "def getEvaluatePerformance(model):\n",
        "  return evaluate_performance(X_test, \n",
        "                             model=model, \n",
        "                             filter_triples=positives_filter,   # Corruption strategy filter defined above \n",
        "                             use_default_protocol=True, # corrupt subj and obj separately while evaluating\n",
        "                             verbose=True)"
      ],
      "execution_count": 0,
      "outputs": []
    },
    {
      "cell_type": "code",
      "metadata": {
        "id": "N9NgKbNsKYNt",
        "colab_type": "code",
        "outputId": "fd0b8590-5d9c-4325-c67c-4bf764d9b973",
        "colab": {
          "base_uri": "https://localhost:8080/",
          "height": 173
        }
      },
      "source": [
        "ranksRandomBaseline = getEvaluatePerformance(modelRandomBaseline)\n",
        "ranksTransE = getEvaluatePerformance(modelTransE)\n",
        "ranksDistMult = getEvaluatePerformance(modelDistMult)\n",
        "ranksComplEx = getEvaluatePerformance(modelComplEx)\n",
        "ranksHolE = getEvaluatePerformance(modelHolE)"
      ],
      "execution_count": 37,
      "outputs": [
        {
          "output_type": "stream",
          "text": [
            "WARNING - DeprecationWarning: use_default_protocol will be removed in future. Please use corrupt_side argument instead.\n",
            "WARNING - DeprecationWarning: use_default_protocol will be removed in future. Please use corrupt_side argument instead.\n"
          ],
          "name": "stdout"
        },
        {
          "output_type": "stream",
          "text": [
            "100%|██████████| 100/100 [00:00<00:00, 292.40it/s]\n"
          ],
          "name": "stderr"
        },
        {
          "output_type": "stream",
          "text": [
            "WARNING - DeprecationWarning: use_default_protocol will be removed in future. Please use corrupt_side argument instead.\n"
          ],
          "name": "stdout"
        },
        {
          "output_type": "stream",
          "text": [
            "100%|██████████| 100/100 [00:00<00:00, 316.45it/s]\n"
          ],
          "name": "stderr"
        },
        {
          "output_type": "stream",
          "text": [
            "WARNING - DeprecationWarning: use_default_protocol will be removed in future. Please use corrupt_side argument instead.\n"
          ],
          "name": "stdout"
        },
        {
          "output_type": "stream",
          "text": [
            "100%|██████████| 100/100 [00:00<00:00, 102.26it/s]\n"
          ],
          "name": "stderr"
        },
        {
          "output_type": "stream",
          "text": [
            "WARNING - DeprecationWarning: use_default_protocol will be removed in future. Please use corrupt_side argument instead.\n"
          ],
          "name": "stdout"
        },
        {
          "output_type": "stream",
          "text": [
            "100%|██████████| 100/100 [00:00<00:00, 107.10it/s]\n"
          ],
          "name": "stderr"
        }
      ]
    },
    {
      "cell_type": "markdown",
      "metadata": {
        "id": "6grPSeFFrJgB",
        "colab_type": "text"
      },
      "source": [
        "## Metrics"
      ]
    },
    {
      "cell_type": "markdown",
      "metadata": {
        "id": "pfx6E8QKrJgC",
        "colab_type": "text"
      },
      "source": [
        "Let's compute some evaluate metrics and print them out.\n",
        "\n",
        "We're going to use the mrr_score (mean reciprocal rank) and hits_at_n_score functions. \n",
        "\n",
        "- ***mrr_score***:  The function computes the mean of the reciprocal of elements of a vector of rankings ranks.\n",
        "- ***hits_at_n_score***: The function computes how many elements of a vector of rankings ranks make it to the top n positions.\n"
      ]
    },
    {
      "cell_type": "code",
      "metadata": {
        "id": "5Phvw0WbE0-g",
        "colab_type": "code",
        "colab": {}
      },
      "source": [
        "from ampligraph.evaluation import mr_score, mrr_score, hits_at_n_score\n",
        "\n",
        "def viewMetrics(ranks, modelName):\n",
        "    print(modelName)\n",
        "    \n",
        "    mrr = mrr_score(ranks)\n",
        "    print(\"MRR: %.2f\" % (mrr))\n",
        "\n",
        "    hits_10 = hits_at_n_score(ranks, n=10)\n",
        "    print(\"Hits@10: %.2f\" % (hits_10))\n",
        "    hits_3 = hits_at_n_score(ranks, n=3)\n",
        "    print(\"Hits@3: %.2f\" % (hits_3))\n",
        "    hits_1 = hits_at_n_score(ranks, n=1)\n",
        "    print(\"Hits@1: %.2f\" % (hits_1))\n",
        "    print()"
      ],
      "execution_count": 0,
      "outputs": []
    },
    {
      "cell_type": "code",
      "metadata": {
        "id": "wka5DruGE74X",
        "colab_type": "code",
        "colab": {
          "base_uri": "https://localhost:8080/",
          "height": 538
        },
        "outputId": "9a27f68a-0b88-4d0e-ea83-10ab88c22c0b"
      },
      "source": [
        "viewMetrics(ranksRandomBaseline, \"RandomBaseline\")\n",
        "viewMetrics(ranksTransE, \"TransE\")\n",
        "viewMetrics(ranksDistMult, \"DistMult\")\n",
        "viewMetrics(ranksComplEx, \"ComplEx\")\n",
        "viewMetrics(ranksHolE, \"HolE\")"
      ],
      "execution_count": 41,
      "outputs": [
        {
          "output_type": "stream",
          "text": [
            "RandomBaseline\n",
            "MRR: 0.00\n",
            "Hits@10: 0.00\n",
            "Hits@3: 0.00\n",
            "Hits@1: 0.00\n",
            "\n",
            "TransE\n",
            "MRR: 0.20\n",
            "Hits@10: 0.34\n",
            "Hits@3: 0.21\n",
            "Hits@1: 0.12\n",
            "\n",
            "DistMult\n",
            "MRR: 0.39\n",
            "Hits@10: 0.54\n",
            "Hits@3: 0.43\n",
            "Hits@1: 0.31\n",
            "\n",
            "ComplEx\n",
            "MRR: 0.41\n",
            "Hits@10: 0.55\n",
            "Hits@3: 0.45\n",
            "Hits@1: 0.34\n",
            "\n",
            "HolE\n",
            "MRR: 0.53\n",
            "Hits@10: 0.72\n",
            "Hits@3: 0.58\n",
            "Hits@1: 0.43\n",
            "\n"
          ],
          "name": "stdout"
        }
      ]
    },
    {
      "cell_type": "markdown",
      "metadata": {
        "id": "5pSuqpbSrJgK",
        "colab_type": "text"
      },
      "source": [
        "Now, how do we interpret those numbers? \n",
        "\n",
        "[Hits@N](http://docs.ampligraph.org/en/1.0.3/generated/ampligraph.evaluation.hits_at_n_score.html#ampligraph.evaluation.hits_at_n_score) indicates how many times in average a true triple was ranked in the top-N. Therefore, on average, we guessed the correct subject or object 53% of the time when considering the top-3 better ranked triples. The choice of which N makes more sense depends on the application.\n",
        "\n",
        "The [Mean Reciprocal Rank (MRR)](http://docs.ampligraph.org/en/latest/generated/ampligraph.evaluation.mrr_score.html) is another popular metrics to assess the predictive power of a model."
      ]
    },
    {
      "cell_type": "code",
      "metadata": {
        "id": "YPhv6Y6QrJgO",
        "colab_type": "code",
        "colab": {}
      },
      "source": [
        "X_unseen = np.array([\n",
        "    ['Jorah Mormont', 'SPOUSE', 'Daenerys Targaryen'],\n",
        "    ['Tyrion Lannister', 'SPOUSE', 'Missandei'],\n",
        "    [\"King's Landing\", 'SEAT_OF', 'House Lannister of Casterly Rock'],\n",
        "    ['Sansa Stark', 'SPOUSE', 'Petyr Baelish'],\n",
        "    ['Daenerys Targaryen', 'SPOUSE', 'Jon Snow'],\n",
        "    ['Daenerys Targaryen', 'SPOUSE', 'Craster'],\n",
        "    ['House Stark of Winterfell', 'IN_REGION', 'The North'],\n",
        "    ['House Stark of Winterfell', 'IN_REGION', 'Dorne'],\n",
        "    ['House Tyrell of Highgarden', 'IN_REGION', 'Beyond the Wall'],\n",
        "    ['Brandon Stark', 'ALLIED_WITH', 'House Stark of Winterfell'],\n",
        "    ['Brandon Stark', 'ALLIED_WITH', 'House Lannister of Casterly Rock'],    \n",
        "    ['Rhaegar Targaryen', 'PARENT_OF', 'Jon Snow'],\n",
        "    ['House Hutcheson', 'SWORN_TO', 'House Tyrell of Highgarden'],\n",
        "    ['Daenerys Targaryen', 'ALLIED_WITH', 'House Stark of Winterfell'],\n",
        "    ['Daenerys Targaryen', 'ALLIED_WITH', 'House Lannister of Casterly Rock'],\n",
        "    ['Jaime Lannister', 'PARENT_OF', 'Myrcella Baratheon'],\n",
        "    ['Robert I Baratheon', 'PARENT_OF', 'Myrcella Baratheon'],\n",
        "    ['Cersei Lannister', 'PARENT_OF', 'Myrcella Baratheon'],\n",
        "    ['Cersei Lannister', 'PARENT_OF', 'Brandon Stark'],\n",
        "    [\"Tywin Lannister\", 'PARENT_OF', 'Jaime Lannister'],\n",
        "    [\"Missandei\", 'SPOUSE', 'Grey Worm'],\n",
        "    [\"Brienne of Tarth\", 'SPOUSE', 'Jaime Lannister']\n",
        "])"
      ],
      "execution_count": 0,
      "outputs": []
    },
    {
      "cell_type": "code",
      "metadata": {
        "id": "AVCBQW2erJgV",
        "colab_type": "code",
        "colab": {}
      },
      "source": [
        "unseen_filter = np.array(list({tuple(i) for i in np.vstack((positives_filter, X_unseen))}))"
      ],
      "execution_count": 0,
      "outputs": []
    },
    {
      "cell_type": "code",
      "metadata": {
        "id": "E1XkXWFUZX_Q",
        "colab_type": "code",
        "colab": {}
      },
      "source": [
        "def getEvaluatePerformanceUnseen(model):\n",
        "  return evaluate_performance(\n",
        "    X_unseen, \n",
        "    model=model, \n",
        "    filter_triples=unseen_filter,   # Corruption strategy filter defined above \n",
        "    corrupt_side = 's+o',\n",
        "    use_default_protocol=False, # corrupt subj and obj separately while evaluating\n",
        "    verbose=True\n",
        ")"
      ],
      "execution_count": 0,
      "outputs": []
    },
    {
      "cell_type": "code",
      "metadata": {
        "id": "tzDW7K1UrJga",
        "colab_type": "code",
        "outputId": "342bab36-d06f-4e89-959f-4371255bfc74",
        "colab": {
          "base_uri": "https://localhost:8080/",
          "height": 86
        }
      },
      "source": [
        "ranks_unseenRandomBaseline = getEvaluatePerformanceUnseen(modelRandomBaseline)\n",
        "ranks_unseenTransE = getEvaluatePerformanceUnseen(modelTransE)\n",
        "ranks_unseenDistMult = getEvaluatePerformanceUnseen(modelDistMult)\n",
        "ranks_unseenComplEx = getEvaluatePerformanceUnseen(modelComplEx)\n",
        "ranks_unseenHolE = getEvaluatePerformanceUnseen(modelHolE)"
      ],
      "execution_count": 45,
      "outputs": [
        {
          "output_type": "stream",
          "text": [
            "100%|██████████| 22/22 [00:00<00:00, 200.61it/s]\n",
            "100%|██████████| 22/22 [00:00<00:00, 222.03it/s]\n",
            "100%|██████████| 22/22 [00:00<00:00, 86.55it/s]\n",
            "100%|██████████| 22/22 [00:00<00:00, 91.50it/s]\n"
          ],
          "name": "stderr"
        }
      ]
    },
    {
      "cell_type": "code",
      "metadata": {
        "id": "HD1MtbjVrJgm",
        "colab_type": "code",
        "colab": {}
      },
      "source": [
        "scoresRandomBaseline = modelRandomBaseline.predict(X_unseen)\n",
        "scoresTransE = modelTransE.predict(X_unseen)\n",
        "scoresDistMult = modelDistMult.predict(X_unseen)\n",
        "scoresComplEx = modelComplEx.predict(X_unseen)\n",
        "scoresHolE = modelHolE.predict(X_unseen)"
      ],
      "execution_count": 0,
      "outputs": []
    },
    {
      "cell_type": "code",
      "metadata": {
        "id": "6s9WJy4CrJgv",
        "colab_type": "code",
        "colab": {}
      },
      "source": [
        "from scipy.special import expit\n",
        "\n",
        "probsRandomBaseline = expit(scoresRandomBaseline)\n",
        "probsTransE = expit(scoresTransE)\n",
        "probsDistMult = expit(scoresDistMult)\n",
        "probsComplEx = expit(scoresComplEx)\n",
        "probsHolE = expit(scoresHolE)"
      ],
      "execution_count": 0,
      "outputs": []
    },
    {
      "cell_type": "markdown",
      "metadata": {
        "id": "0cxWgYy_ZxBU",
        "colab_type": "text"
      },
      "source": [
        "#RandomBaseLine\n",
        "Это фиктивная модель, котора выдает псевдослучайные оценки от 0 до 1 из нормального распределения, она полезна, чтобы сравнить работает ли обученная модель лучше случайной. Соответственно для RandomBaseLine имеем результат в котором вероятность каждой из проверяемых троек колеблется примерно на одном уровне, вне зависимости от  того истинно утверждение или нет. Соответственно данная модель имеет самые низкие показтели mrr_score и hits_at_n_score."
      ]
    },
    {
      "cell_type": "code",
      "metadata": {
        "scrolled": false,
        "id": "KGkQPvAcrJg-",
        "colab_type": "code",
        "outputId": "55247d7f-bfbe-4e0d-c48c-0c527ed09f7e",
        "colab": {
          "base_uri": "https://localhost:8080/",
          "height": 739
        }
      },
      "source": [
        "pd.DataFrame(list(zip([' '.join(x) for x in X_unseen], \n",
        "                      ranks_unseenRandomBaseline, \n",
        "                      np.squeeze(scoresRandomBaseline),\n",
        "                      np.squeeze(probsRandomBaseline))), \n",
        "             columns=['statement', 'rank', 'score', 'prob']).sort_values(\"score\")"
      ],
      "execution_count": 48,
      "outputs": [
        {
          "output_type": "execute_result",
          "data": {
            "text/html": [
              "<div>\n",
              "<style scoped>\n",
              "    .dataframe tbody tr th:only-of-type {\n",
              "        vertical-align: middle;\n",
              "    }\n",
              "\n",
              "    .dataframe tbody tr th {\n",
              "        vertical-align: top;\n",
              "    }\n",
              "\n",
              "    .dataframe thead th {\n",
              "        text-align: right;\n",
              "    }\n",
              "</style>\n",
              "<table border=\"1\" class=\"dataframe\">\n",
              "  <thead>\n",
              "    <tr style=\"text-align: right;\">\n",
              "      <th></th>\n",
              "      <th>statement</th>\n",
              "      <th>rank</th>\n",
              "      <th>score</th>\n",
              "      <th>prob</th>\n",
              "    </tr>\n",
              "  </thead>\n",
              "  <tbody>\n",
              "    <tr>\n",
              "      <th>18</th>\n",
              "      <td>Cersei Lannister PARENT_OF Brandon Stark</td>\n",
              "      <td>1234</td>\n",
              "      <td>0.001010</td>\n",
              "      <td>0.500252</td>\n",
              "    </tr>\n",
              "    <tr>\n",
              "      <th>13</th>\n",
              "      <td>Daenerys Targaryen ALLIED_WITH House Stark of ...</td>\n",
              "      <td>3564</td>\n",
              "      <td>0.103816</td>\n",
              "      <td>0.525931</td>\n",
              "    </tr>\n",
              "    <tr>\n",
              "      <th>20</th>\n",
              "      <td>Missandei SPOUSE Grey Worm</td>\n",
              "      <td>3085</td>\n",
              "      <td>0.156636</td>\n",
              "      <td>0.539079</td>\n",
              "    </tr>\n",
              "    <tr>\n",
              "      <th>3</th>\n",
              "      <td>Sansa Stark SPOUSE Petyr Baelish</td>\n",
              "      <td>2314</td>\n",
              "      <td>0.229489</td>\n",
              "      <td>0.557122</td>\n",
              "    </tr>\n",
              "    <tr>\n",
              "      <th>7</th>\n",
              "      <td>House Stark of Winterfell IN_REGION Dorne</td>\n",
              "      <td>356</td>\n",
              "      <td>0.290240</td>\n",
              "      <td>0.572055</td>\n",
              "    </tr>\n",
              "    <tr>\n",
              "      <th>19</th>\n",
              "      <td>Tywin Lannister PARENT_OF Jaime Lannister</td>\n",
              "      <td>2755</td>\n",
              "      <td>0.386393</td>\n",
              "      <td>0.595414</td>\n",
              "    </tr>\n",
              "    <tr>\n",
              "      <th>8</th>\n",
              "      <td>House Tyrell of Highgarden IN_REGION Beyond th...</td>\n",
              "      <td>3832</td>\n",
              "      <td>0.491862</td>\n",
              "      <td>0.620545</td>\n",
              "    </tr>\n",
              "    <tr>\n",
              "      <th>5</th>\n",
              "      <td>Daenerys Targaryen SPOUSE Craster</td>\n",
              "      <td>1736</td>\n",
              "      <td>0.538885</td>\n",
              "      <td>0.631553</td>\n",
              "    </tr>\n",
              "    <tr>\n",
              "      <th>15</th>\n",
              "      <td>Jaime Lannister PARENT_OF Myrcella Baratheon</td>\n",
              "      <td>826</td>\n",
              "      <td>0.551878</td>\n",
              "      <td>0.634571</td>\n",
              "    </tr>\n",
              "    <tr>\n",
              "      <th>4</th>\n",
              "      <td>Daenerys Targaryen SPOUSE Jon Snow</td>\n",
              "      <td>539</td>\n",
              "      <td>0.577176</td>\n",
              "      <td>0.640417</td>\n",
              "    </tr>\n",
              "    <tr>\n",
              "      <th>12</th>\n",
              "      <td>House Hutcheson SWORN_TO House Tyrell of Highg...</td>\n",
              "      <td>3343</td>\n",
              "      <td>0.585287</td>\n",
              "      <td>0.642283</td>\n",
              "    </tr>\n",
              "    <tr>\n",
              "      <th>9</th>\n",
              "      <td>Brandon Stark ALLIED_WITH House Stark of Winte...</td>\n",
              "      <td>3424</td>\n",
              "      <td>0.597619</td>\n",
              "      <td>0.645111</td>\n",
              "    </tr>\n",
              "    <tr>\n",
              "      <th>21</th>\n",
              "      <td>Brienne of Tarth SPOUSE Jaime Lannister</td>\n",
              "      <td>4047</td>\n",
              "      <td>0.600979</td>\n",
              "      <td>0.645880</td>\n",
              "    </tr>\n",
              "    <tr>\n",
              "      <th>2</th>\n",
              "      <td>King's Landing SEAT_OF House Lannister of Cast...</td>\n",
              "      <td>3113</td>\n",
              "      <td>0.613386</td>\n",
              "      <td>0.648713</td>\n",
              "    </tr>\n",
              "    <tr>\n",
              "      <th>11</th>\n",
              "      <td>Rhaegar Targaryen PARENT_OF Jon Snow</td>\n",
              "      <td>241</td>\n",
              "      <td>0.633982</td>\n",
              "      <td>0.653392</td>\n",
              "    </tr>\n",
              "    <tr>\n",
              "      <th>1</th>\n",
              "      <td>Tyrion Lannister SPOUSE Missandei</td>\n",
              "      <td>2407</td>\n",
              "      <td>0.701717</td>\n",
              "      <td>0.668568</td>\n",
              "    </tr>\n",
              "    <tr>\n",
              "      <th>16</th>\n",
              "      <td>Robert I Baratheon PARENT_OF Myrcella Baratheon</td>\n",
              "      <td>2631</td>\n",
              "      <td>0.738062</td>\n",
              "      <td>0.676572</td>\n",
              "    </tr>\n",
              "    <tr>\n",
              "      <th>6</th>\n",
              "      <td>House Stark of Winterfell IN_REGION The North</td>\n",
              "      <td>4026</td>\n",
              "      <td>0.758639</td>\n",
              "      <td>0.681058</td>\n",
              "    </tr>\n",
              "    <tr>\n",
              "      <th>10</th>\n",
              "      <td>Brandon Stark ALLIED_WITH House Lannister of C...</td>\n",
              "      <td>1638</td>\n",
              "      <td>0.772196</td>\n",
              "      <td>0.683996</td>\n",
              "    </tr>\n",
              "    <tr>\n",
              "      <th>17</th>\n",
              "      <td>Cersei Lannister PARENT_OF Myrcella Baratheon</td>\n",
              "      <td>3290</td>\n",
              "      <td>0.831473</td>\n",
              "      <td>0.696666</td>\n",
              "    </tr>\n",
              "    <tr>\n",
              "      <th>14</th>\n",
              "      <td>Daenerys Targaryen ALLIED_WITH House Lannister...</td>\n",
              "      <td>1783</td>\n",
              "      <td>0.909756</td>\n",
              "      <td>0.712950</td>\n",
              "    </tr>\n",
              "    <tr>\n",
              "      <th>0</th>\n",
              "      <td>Jorah Mormont SPOUSE Daenerys Targaryen</td>\n",
              "      <td>1318</td>\n",
              "      <td>0.971599</td>\n",
              "      <td>0.725438</td>\n",
              "    </tr>\n",
              "  </tbody>\n",
              "</table>\n",
              "</div>"
            ],
            "text/plain": [
              "                                            statement  rank     score      prob\n",
              "18           Cersei Lannister PARENT_OF Brandon Stark  1234  0.001010  0.500252\n",
              "13  Daenerys Targaryen ALLIED_WITH House Stark of ...  3564  0.103816  0.525931\n",
              "20                         Missandei SPOUSE Grey Worm  3085  0.156636  0.539079\n",
              "3                    Sansa Stark SPOUSE Petyr Baelish  2314  0.229489  0.557122\n",
              "7           House Stark of Winterfell IN_REGION Dorne   356  0.290240  0.572055\n",
              "19          Tywin Lannister PARENT_OF Jaime Lannister  2755  0.386393  0.595414\n",
              "8   House Tyrell of Highgarden IN_REGION Beyond th...  3832  0.491862  0.620545\n",
              "5                   Daenerys Targaryen SPOUSE Craster  1736  0.538885  0.631553\n",
              "15       Jaime Lannister PARENT_OF Myrcella Baratheon   826  0.551878  0.634571\n",
              "4                  Daenerys Targaryen SPOUSE Jon Snow   539  0.577176  0.640417\n",
              "12  House Hutcheson SWORN_TO House Tyrell of Highg...  3343  0.585287  0.642283\n",
              "9   Brandon Stark ALLIED_WITH House Stark of Winte...  3424  0.597619  0.645111\n",
              "21            Brienne of Tarth SPOUSE Jaime Lannister  4047  0.600979  0.645880\n",
              "2   King's Landing SEAT_OF House Lannister of Cast...  3113  0.613386  0.648713\n",
              "11               Rhaegar Targaryen PARENT_OF Jon Snow   241  0.633982  0.653392\n",
              "1                   Tyrion Lannister SPOUSE Missandei  2407  0.701717  0.668568\n",
              "16    Robert I Baratheon PARENT_OF Myrcella Baratheon  2631  0.738062  0.676572\n",
              "6       House Stark of Winterfell IN_REGION The North  4026  0.758639  0.681058\n",
              "10  Brandon Stark ALLIED_WITH House Lannister of C...  1638  0.772196  0.683996\n",
              "17      Cersei Lannister PARENT_OF Myrcella Baratheon  3290  0.831473  0.696666\n",
              "14  Daenerys Targaryen ALLIED_WITH House Lannister...  1783  0.909756  0.712950\n",
              "0             Jorah Mormont SPOUSE Daenerys Targaryen  1318  0.971599  0.725438"
            ]
          },
          "metadata": {
            "tags": []
          },
          "execution_count": 48
        }
      ]
    },
    {
      "cell_type": "markdown",
      "metadata": {
        "id": "nROwRVrWcKhA",
        "colab_type": "text"
      },
      "source": [
        "#TransE\n",
        "Модель Translating Embeddings имеет скоринговую функцию равную L1 или L2 норме разности эмбеддингов объекта и субъекта сложенных с эмбеддингом предиката (f = ||Esubj - Eobj + Epred||). Эта можель показывает самые низкие значения mrr_score и hits_at_n_score за исключением RandomBaseLine. \n",
        "\n"
      ]
    },
    {
      "cell_type": "code",
      "metadata": {
        "id": "jJGdRKxUenYZ",
        "colab_type": "code",
        "outputId": "4b340acc-26ce-4b8d-c1d3-a0b2dd470f43",
        "colab": {
          "base_uri": "https://localhost:8080/",
          "height": 739
        }
      },
      "source": [
        "pd.DataFrame(list(zip([' '.join(x) for x in X_unseen], \n",
        "                      ranks_unseenTransE, \n",
        "                      np.squeeze(scoresTransE),\n",
        "                      np.squeeze(probsTransE))), \n",
        "             columns=['statement', 'rank', 'score', 'prob']).sort_values(\"score\")"
      ],
      "execution_count": 49,
      "outputs": [
        {
          "output_type": "execute_result",
          "data": {
            "text/html": [
              "<div>\n",
              "<style scoped>\n",
              "    .dataframe tbody tr th:only-of-type {\n",
              "        vertical-align: middle;\n",
              "    }\n",
              "\n",
              "    .dataframe tbody tr th {\n",
              "        vertical-align: top;\n",
              "    }\n",
              "\n",
              "    .dataframe thead th {\n",
              "        text-align: right;\n",
              "    }\n",
              "</style>\n",
              "<table border=\"1\" class=\"dataframe\">\n",
              "  <thead>\n",
              "    <tr style=\"text-align: right;\">\n",
              "      <th></th>\n",
              "      <th>statement</th>\n",
              "      <th>rank</th>\n",
              "      <th>score</th>\n",
              "      <th>prob</th>\n",
              "    </tr>\n",
              "  </thead>\n",
              "  <tbody>\n",
              "    <tr>\n",
              "      <th>5</th>\n",
              "      <td>Daenerys Targaryen SPOUSE Craster</td>\n",
              "      <td>3307</td>\n",
              "      <td>-34.936989</td>\n",
              "      <td>6.715194e-16</td>\n",
              "    </tr>\n",
              "    <tr>\n",
              "      <th>10</th>\n",
              "      <td>Brandon Stark ALLIED_WITH House Lannister of C...</td>\n",
              "      <td>1647</td>\n",
              "      <td>-32.715092</td>\n",
              "      <td>6.194642e-15</td>\n",
              "    </tr>\n",
              "    <tr>\n",
              "      <th>7</th>\n",
              "      <td>House Stark of Winterfell IN_REGION Dorne</td>\n",
              "      <td>1890</td>\n",
              "      <td>-31.759661</td>\n",
              "      <td>1.610477e-14</td>\n",
              "    </tr>\n",
              "    <tr>\n",
              "      <th>9</th>\n",
              "      <td>Brandon Stark ALLIED_WITH House Stark of Winte...</td>\n",
              "      <td>1214</td>\n",
              "      <td>-30.228470</td>\n",
              "      <td>7.446331e-14</td>\n",
              "    </tr>\n",
              "    <tr>\n",
              "      <th>1</th>\n",
              "      <td>Tyrion Lannister SPOUSE Missandei</td>\n",
              "      <td>2215</td>\n",
              "      <td>-29.230003</td>\n",
              "      <td>2.021021e-13</td>\n",
              "    </tr>\n",
              "    <tr>\n",
              "      <th>3</th>\n",
              "      <td>Sansa Stark SPOUSE Petyr Baelish</td>\n",
              "      <td>962</td>\n",
              "      <td>-28.080956</td>\n",
              "      <td>6.376700e-13</td>\n",
              "    </tr>\n",
              "    <tr>\n",
              "      <th>4</th>\n",
              "      <td>Daenerys Targaryen SPOUSE Jon Snow</td>\n",
              "      <td>1261</td>\n",
              "      <td>-27.729847</td>\n",
              "      <td>9.059005e-13</td>\n",
              "    </tr>\n",
              "    <tr>\n",
              "      <th>12</th>\n",
              "      <td>House Hutcheson SWORN_TO House Tyrell of Highg...</td>\n",
              "      <td>753</td>\n",
              "      <td>-27.111053</td>\n",
              "      <td>1.681973e-12</td>\n",
              "    </tr>\n",
              "    <tr>\n",
              "      <th>8</th>\n",
              "      <td>House Tyrell of Highgarden IN_REGION Beyond th...</td>\n",
              "      <td>371</td>\n",
              "      <td>-26.379459</td>\n",
              "      <td>3.495798e-12</td>\n",
              "    </tr>\n",
              "    <tr>\n",
              "      <th>14</th>\n",
              "      <td>Daenerys Targaryen ALLIED_WITH House Lannister...</td>\n",
              "      <td>822</td>\n",
              "      <td>-26.067791</td>\n",
              "      <td>4.774218e-12</td>\n",
              "    </tr>\n",
              "    <tr>\n",
              "      <th>18</th>\n",
              "      <td>Cersei Lannister PARENT_OF Brandon Stark</td>\n",
              "      <td>1133</td>\n",
              "      <td>-26.028645</td>\n",
              "      <td>4.964817e-12</td>\n",
              "    </tr>\n",
              "    <tr>\n",
              "      <th>21</th>\n",
              "      <td>Brienne of Tarth SPOUSE Jaime Lannister</td>\n",
              "      <td>1104</td>\n",
              "      <td>-25.964901</td>\n",
              "      <td>5.291597e-12</td>\n",
              "    </tr>\n",
              "    <tr>\n",
              "      <th>11</th>\n",
              "      <td>Rhaegar Targaryen PARENT_OF Jon Snow</td>\n",
              "      <td>1042</td>\n",
              "      <td>-25.123161</td>\n",
              "      <td>1.227862e-11</td>\n",
              "    </tr>\n",
              "    <tr>\n",
              "      <th>13</th>\n",
              "      <td>Daenerys Targaryen ALLIED_WITH House Stark of ...</td>\n",
              "      <td>731</td>\n",
              "      <td>-25.090389</td>\n",
              "      <td>1.268769e-11</td>\n",
              "    </tr>\n",
              "    <tr>\n",
              "      <th>6</th>\n",
              "      <td>House Stark of Winterfell IN_REGION The North</td>\n",
              "      <td>335</td>\n",
              "      <td>-24.891790</td>\n",
              "      <td>1.547508e-11</td>\n",
              "    </tr>\n",
              "    <tr>\n",
              "      <th>0</th>\n",
              "      <td>Jorah Mormont SPOUSE Daenerys Targaryen</td>\n",
              "      <td>587</td>\n",
              "      <td>-24.715263</td>\n",
              "      <td>1.846280e-11</td>\n",
              "    </tr>\n",
              "    <tr>\n",
              "      <th>2</th>\n",
              "      <td>King's Landing SEAT_OF House Lannister of Cast...</td>\n",
              "      <td>151</td>\n",
              "      <td>-24.449261</td>\n",
              "      <td>2.408912e-11</td>\n",
              "    </tr>\n",
              "    <tr>\n",
              "      <th>16</th>\n",
              "      <td>Robert I Baratheon PARENT_OF Myrcella Baratheon</td>\n",
              "      <td>82</td>\n",
              "      <td>-24.281551</td>\n",
              "      <td>2.848763e-11</td>\n",
              "    </tr>\n",
              "    <tr>\n",
              "      <th>15</th>\n",
              "      <td>Jaime Lannister PARENT_OF Myrcella Baratheon</td>\n",
              "      <td>1064</td>\n",
              "      <td>-23.688765</td>\n",
              "      <td>5.153476e-11</td>\n",
              "    </tr>\n",
              "    <tr>\n",
              "      <th>17</th>\n",
              "      <td>Cersei Lannister PARENT_OF Myrcella Baratheon</td>\n",
              "      <td>198</td>\n",
              "      <td>-23.502850</td>\n",
              "      <td>6.206434e-11</td>\n",
              "    </tr>\n",
              "    <tr>\n",
              "      <th>19</th>\n",
              "      <td>Tywin Lannister PARENT_OF Jaime Lannister</td>\n",
              "      <td>126</td>\n",
              "      <td>-21.762964</td>\n",
              "      <td>3.535613e-10</td>\n",
              "    </tr>\n",
              "    <tr>\n",
              "      <th>20</th>\n",
              "      <td>Missandei SPOUSE Grey Worm</td>\n",
              "      <td>70</td>\n",
              "      <td>-20.788635</td>\n",
              "      <td>9.367214e-10</td>\n",
              "    </tr>\n",
              "  </tbody>\n",
              "</table>\n",
              "</div>"
            ],
            "text/plain": [
              "                                            statement  ...          prob\n",
              "5                   Daenerys Targaryen SPOUSE Craster  ...  6.715194e-16\n",
              "10  Brandon Stark ALLIED_WITH House Lannister of C...  ...  6.194642e-15\n",
              "7           House Stark of Winterfell IN_REGION Dorne  ...  1.610477e-14\n",
              "9   Brandon Stark ALLIED_WITH House Stark of Winte...  ...  7.446331e-14\n",
              "1                   Tyrion Lannister SPOUSE Missandei  ...  2.021021e-13\n",
              "3                    Sansa Stark SPOUSE Petyr Baelish  ...  6.376700e-13\n",
              "4                  Daenerys Targaryen SPOUSE Jon Snow  ...  9.059005e-13\n",
              "12  House Hutcheson SWORN_TO House Tyrell of Highg...  ...  1.681973e-12\n",
              "8   House Tyrell of Highgarden IN_REGION Beyond th...  ...  3.495798e-12\n",
              "14  Daenerys Targaryen ALLIED_WITH House Lannister...  ...  4.774218e-12\n",
              "18           Cersei Lannister PARENT_OF Brandon Stark  ...  4.964817e-12\n",
              "21            Brienne of Tarth SPOUSE Jaime Lannister  ...  5.291597e-12\n",
              "11               Rhaegar Targaryen PARENT_OF Jon Snow  ...  1.227862e-11\n",
              "13  Daenerys Targaryen ALLIED_WITH House Stark of ...  ...  1.268769e-11\n",
              "6       House Stark of Winterfell IN_REGION The North  ...  1.547508e-11\n",
              "0             Jorah Mormont SPOUSE Daenerys Targaryen  ...  1.846280e-11\n",
              "2   King's Landing SEAT_OF House Lannister of Cast...  ...  2.408912e-11\n",
              "16    Robert I Baratheon PARENT_OF Myrcella Baratheon  ...  2.848763e-11\n",
              "15       Jaime Lannister PARENT_OF Myrcella Baratheon  ...  5.153476e-11\n",
              "17      Cersei Lannister PARENT_OF Myrcella Baratheon  ...  6.206434e-11\n",
              "19          Tywin Lannister PARENT_OF Jaime Lannister  ...  3.535613e-10\n",
              "20                         Missandei SPOUSE Grey Worm  ...  9.367214e-10\n",
              "\n",
              "[22 rows x 4 columns]"
            ]
          },
          "metadata": {
            "tags": []
          },
          "execution_count": 49
        }
      ]
    },
    {
      "cell_type": "markdown",
      "metadata": {
        "id": "YFVkFnGjqh86",
        "colab_type": "text"
      },
      "source": [
        "#DistMult\n",
        "Скоринговая функция (f = <Epred, Esubj, Eobj>). Модель показывает неплохие результаты, что наглядно видно по таблице ниже, где утверждене получили, более или менее похожее на правду упорядочевание по вероятности появления связи, однако некоторые верные утверждения получили низкую вероятность возникновения"
      ]
    },
    {
      "cell_type": "code",
      "metadata": {
        "id": "muRyvkqrenkS",
        "colab_type": "code",
        "outputId": "c51e3c81-299f-4812-eceb-6555bfb68528",
        "colab": {
          "base_uri": "https://localhost:8080/",
          "height": 739
        }
      },
      "source": [
        "pd.DataFrame(list(zip([' '.join(x) for x in X_unseen], \n",
        "                      ranks_unseenDistMult, \n",
        "                      np.squeeze(scoresDistMult),\n",
        "                      np.squeeze(probsDistMult))), \n",
        "             columns=['statement', 'rank', 'score', 'prob']).sort_values(\"score\")"
      ],
      "execution_count": 50,
      "outputs": [
        {
          "output_type": "execute_result",
          "data": {
            "text/html": [
              "<div>\n",
              "<style scoped>\n",
              "    .dataframe tbody tr th:only-of-type {\n",
              "        vertical-align: middle;\n",
              "    }\n",
              "\n",
              "    .dataframe tbody tr th {\n",
              "        vertical-align: top;\n",
              "    }\n",
              "\n",
              "    .dataframe thead th {\n",
              "        text-align: right;\n",
              "    }\n",
              "</style>\n",
              "<table border=\"1\" class=\"dataframe\">\n",
              "  <thead>\n",
              "    <tr style=\"text-align: right;\">\n",
              "      <th></th>\n",
              "      <th>statement</th>\n",
              "      <th>rank</th>\n",
              "      <th>score</th>\n",
              "      <th>prob</th>\n",
              "    </tr>\n",
              "  </thead>\n",
              "  <tbody>\n",
              "    <tr>\n",
              "      <th>10</th>\n",
              "      <td>Brandon Stark ALLIED_WITH House Lannister of C...</td>\n",
              "      <td>3957</td>\n",
              "      <td>-3.151287</td>\n",
              "      <td>0.041041</td>\n",
              "    </tr>\n",
              "    <tr>\n",
              "      <th>7</th>\n",
              "      <td>House Stark of Winterfell IN_REGION Dorne</td>\n",
              "      <td>3896</td>\n",
              "      <td>-1.646955</td>\n",
              "      <td>0.161521</td>\n",
              "    </tr>\n",
              "    <tr>\n",
              "      <th>18</th>\n",
              "      <td>Cersei Lannister PARENT_OF Brandon Stark</td>\n",
              "      <td>3935</td>\n",
              "      <td>-1.372229</td>\n",
              "      <td>0.202260</td>\n",
              "    </tr>\n",
              "    <tr>\n",
              "      <th>9</th>\n",
              "      <td>Brandon Stark ALLIED_WITH House Stark of Winte...</td>\n",
              "      <td>3197</td>\n",
              "      <td>-1.072514</td>\n",
              "      <td>0.254925</td>\n",
              "    </tr>\n",
              "    <tr>\n",
              "      <th>2</th>\n",
              "      <td>King's Landing SEAT_OF House Lannister of Cast...</td>\n",
              "      <td>3577</td>\n",
              "      <td>-0.986115</td>\n",
              "      <td>0.271680</td>\n",
              "    </tr>\n",
              "    <tr>\n",
              "      <th>8</th>\n",
              "      <td>House Tyrell of Highgarden IN_REGION Beyond th...</td>\n",
              "      <td>3174</td>\n",
              "      <td>-0.568788</td>\n",
              "      <td>0.361517</td>\n",
              "    </tr>\n",
              "    <tr>\n",
              "      <th>15</th>\n",
              "      <td>Jaime Lannister PARENT_OF Myrcella Baratheon</td>\n",
              "      <td>2735</td>\n",
              "      <td>-0.166903</td>\n",
              "      <td>0.458371</td>\n",
              "    </tr>\n",
              "    <tr>\n",
              "      <th>1</th>\n",
              "      <td>Tyrion Lannister SPOUSE Missandei</td>\n",
              "      <td>1767</td>\n",
              "      <td>0.072192</td>\n",
              "      <td>0.518040</td>\n",
              "    </tr>\n",
              "    <tr>\n",
              "      <th>11</th>\n",
              "      <td>Rhaegar Targaryen PARENT_OF Jon Snow</td>\n",
              "      <td>1373</td>\n",
              "      <td>0.136841</td>\n",
              "      <td>0.534157</td>\n",
              "    </tr>\n",
              "    <tr>\n",
              "      <th>19</th>\n",
              "      <td>Tywin Lannister PARENT_OF Jaime Lannister</td>\n",
              "      <td>1226</td>\n",
              "      <td>0.212060</td>\n",
              "      <td>0.552817</td>\n",
              "    </tr>\n",
              "    <tr>\n",
              "      <th>21</th>\n",
              "      <td>Brienne of Tarth SPOUSE Jaime Lannister</td>\n",
              "      <td>1462</td>\n",
              "      <td>0.221745</td>\n",
              "      <td>0.555210</td>\n",
              "    </tr>\n",
              "    <tr>\n",
              "      <th>17</th>\n",
              "      <td>Cersei Lannister PARENT_OF Myrcella Baratheon</td>\n",
              "      <td>982</td>\n",
              "      <td>0.413596</td>\n",
              "      <td>0.601950</td>\n",
              "    </tr>\n",
              "    <tr>\n",
              "      <th>4</th>\n",
              "      <td>Daenerys Targaryen SPOUSE Jon Snow</td>\n",
              "      <td>951</td>\n",
              "      <td>0.500467</td>\n",
              "      <td>0.622569</td>\n",
              "    </tr>\n",
              "    <tr>\n",
              "      <th>16</th>\n",
              "      <td>Robert I Baratheon PARENT_OF Myrcella Baratheon</td>\n",
              "      <td>504</td>\n",
              "      <td>0.768944</td>\n",
              "      <td>0.683292</td>\n",
              "    </tr>\n",
              "    <tr>\n",
              "      <th>6</th>\n",
              "      <td>House Stark of Winterfell IN_REGION The North</td>\n",
              "      <td>260</td>\n",
              "      <td>1.408046</td>\n",
              "      <td>0.803457</td>\n",
              "    </tr>\n",
              "    <tr>\n",
              "      <th>5</th>\n",
              "      <td>Daenerys Targaryen SPOUSE Craster</td>\n",
              "      <td>532</td>\n",
              "      <td>1.623020</td>\n",
              "      <td>0.835211</td>\n",
              "    </tr>\n",
              "    <tr>\n",
              "      <th>3</th>\n",
              "      <td>Sansa Stark SPOUSE Petyr Baelish</td>\n",
              "      <td>202</td>\n",
              "      <td>1.873805</td>\n",
              "      <td>0.866898</td>\n",
              "    </tr>\n",
              "    <tr>\n",
              "      <th>13</th>\n",
              "      <td>Daenerys Targaryen ALLIED_WITH House Stark of ...</td>\n",
              "      <td>195</td>\n",
              "      <td>1.912331</td>\n",
              "      <td>0.871281</td>\n",
              "    </tr>\n",
              "    <tr>\n",
              "      <th>14</th>\n",
              "      <td>Daenerys Targaryen ALLIED_WITH House Lannister...</td>\n",
              "      <td>187</td>\n",
              "      <td>1.927198</td>\n",
              "      <td>0.872939</td>\n",
              "    </tr>\n",
              "    <tr>\n",
              "      <th>20</th>\n",
              "      <td>Missandei SPOUSE Grey Worm</td>\n",
              "      <td>129</td>\n",
              "      <td>2.207916</td>\n",
              "      <td>0.900958</td>\n",
              "    </tr>\n",
              "    <tr>\n",
              "      <th>0</th>\n",
              "      <td>Jorah Mormont SPOUSE Daenerys Targaryen</td>\n",
              "      <td>131</td>\n",
              "      <td>2.367710</td>\n",
              "      <td>0.914332</td>\n",
              "    </tr>\n",
              "    <tr>\n",
              "      <th>12</th>\n",
              "      <td>House Hutcheson SWORN_TO House Tyrell of Highg...</td>\n",
              "      <td>9</td>\n",
              "      <td>3.797093</td>\n",
              "      <td>0.978056</td>\n",
              "    </tr>\n",
              "  </tbody>\n",
              "</table>\n",
              "</div>"
            ],
            "text/plain": [
              "                                            statement  rank     score      prob\n",
              "10  Brandon Stark ALLIED_WITH House Lannister of C...  3957 -3.151287  0.041041\n",
              "7           House Stark of Winterfell IN_REGION Dorne  3896 -1.646955  0.161521\n",
              "18           Cersei Lannister PARENT_OF Brandon Stark  3935 -1.372229  0.202260\n",
              "9   Brandon Stark ALLIED_WITH House Stark of Winte...  3197 -1.072514  0.254925\n",
              "2   King's Landing SEAT_OF House Lannister of Cast...  3577 -0.986115  0.271680\n",
              "8   House Tyrell of Highgarden IN_REGION Beyond th...  3174 -0.568788  0.361517\n",
              "15       Jaime Lannister PARENT_OF Myrcella Baratheon  2735 -0.166903  0.458371\n",
              "1                   Tyrion Lannister SPOUSE Missandei  1767  0.072192  0.518040\n",
              "11               Rhaegar Targaryen PARENT_OF Jon Snow  1373  0.136841  0.534157\n",
              "19          Tywin Lannister PARENT_OF Jaime Lannister  1226  0.212060  0.552817\n",
              "21            Brienne of Tarth SPOUSE Jaime Lannister  1462  0.221745  0.555210\n",
              "17      Cersei Lannister PARENT_OF Myrcella Baratheon   982  0.413596  0.601950\n",
              "4                  Daenerys Targaryen SPOUSE Jon Snow   951  0.500467  0.622569\n",
              "16    Robert I Baratheon PARENT_OF Myrcella Baratheon   504  0.768944  0.683292\n",
              "6       House Stark of Winterfell IN_REGION The North   260  1.408046  0.803457\n",
              "5                   Daenerys Targaryen SPOUSE Craster   532  1.623020  0.835211\n",
              "3                    Sansa Stark SPOUSE Petyr Baelish   202  1.873805  0.866898\n",
              "13  Daenerys Targaryen ALLIED_WITH House Stark of ...   195  1.912331  0.871281\n",
              "14  Daenerys Targaryen ALLIED_WITH House Lannister...   187  1.927198  0.872939\n",
              "20                         Missandei SPOUSE Grey Worm   129  2.207916  0.900958\n",
              "0             Jorah Mormont SPOUSE Daenerys Targaryen   131  2.367710  0.914332\n",
              "12  House Hutcheson SWORN_TO House Tyrell of Highg...     9  3.797093  0.978056"
            ]
          },
          "metadata": {
            "tags": []
          },
          "execution_count": 50
        }
      ]
    },
    {
      "cell_type": "markdown",
      "metadata": {
        "id": "S1r0foDPv1ul",
        "colab_type": "text"
      },
      "source": [
        "#Complex embeddings\n",
        "Модель имеет несколько лучшие показатели mrr_score и hits_at_n_score чем DistMult, что логично, так как она является ее расширением за счет использования trilinear Hermitian dot product в пространстве комплексных чисел. То есть используется аналог скоринговой функции прошлой модели, но в комплексном пространстве. Как мы видим результаты в таблице, так же лучше соответствуют действительности"
      ]
    },
    {
      "cell_type": "code",
      "metadata": {
        "id": "HTMeVuL6envk",
        "colab_type": "code",
        "outputId": "1c23d2f4-50f3-492e-83f1-e0770a294182",
        "colab": {
          "base_uri": "https://localhost:8080/",
          "height": 739
        }
      },
      "source": [
        "pd.DataFrame(list(zip([' '.join(x) for x in X_unseen], \n",
        "                      ranks_unseenComplEx, \n",
        "                      np.squeeze(scoresComplEx),\n",
        "                      np.squeeze(probsComplEx))), \n",
        "             columns=['statement', 'rank', 'score', 'prob']).sort_values(\"score\")"
      ],
      "execution_count": 51,
      "outputs": [
        {
          "output_type": "execute_result",
          "data": {
            "text/html": [
              "<div>\n",
              "<style scoped>\n",
              "    .dataframe tbody tr th:only-of-type {\n",
              "        vertical-align: middle;\n",
              "    }\n",
              "\n",
              "    .dataframe tbody tr th {\n",
              "        vertical-align: top;\n",
              "    }\n",
              "\n",
              "    .dataframe thead th {\n",
              "        text-align: right;\n",
              "    }\n",
              "</style>\n",
              "<table border=\"1\" class=\"dataframe\">\n",
              "  <thead>\n",
              "    <tr style=\"text-align: right;\">\n",
              "      <th></th>\n",
              "      <th>statement</th>\n",
              "      <th>rank</th>\n",
              "      <th>score</th>\n",
              "      <th>prob</th>\n",
              "    </tr>\n",
              "  </thead>\n",
              "  <tbody>\n",
              "    <tr>\n",
              "      <th>10</th>\n",
              "      <td>Brandon Stark ALLIED_WITH House Lannister of C...</td>\n",
              "      <td>4017</td>\n",
              "      <td>-3.814219</td>\n",
              "      <td>0.021579</td>\n",
              "    </tr>\n",
              "    <tr>\n",
              "      <th>18</th>\n",
              "      <td>Cersei Lannister PARENT_OF Brandon Stark</td>\n",
              "      <td>4083</td>\n",
              "      <td>-1.994111</td>\n",
              "      <td>0.119823</td>\n",
              "    </tr>\n",
              "    <tr>\n",
              "      <th>9</th>\n",
              "      <td>Brandon Stark ALLIED_WITH House Stark of Winte...</td>\n",
              "      <td>2995</td>\n",
              "      <td>-0.747190</td>\n",
              "      <td>0.321434</td>\n",
              "    </tr>\n",
              "    <tr>\n",
              "      <th>1</th>\n",
              "      <td>Tyrion Lannister SPOUSE Missandei</td>\n",
              "      <td>3389</td>\n",
              "      <td>-0.740519</td>\n",
              "      <td>0.322891</td>\n",
              "    </tr>\n",
              "    <tr>\n",
              "      <th>21</th>\n",
              "      <td>Brienne of Tarth SPOUSE Jaime Lannister</td>\n",
              "      <td>3493</td>\n",
              "      <td>-0.702409</td>\n",
              "      <td>0.331278</td>\n",
              "    </tr>\n",
              "    <tr>\n",
              "      <th>5</th>\n",
              "      <td>Daenerys Targaryen SPOUSE Craster</td>\n",
              "      <td>3319</td>\n",
              "      <td>-0.702271</td>\n",
              "      <td>0.331309</td>\n",
              "    </tr>\n",
              "    <tr>\n",
              "      <th>15</th>\n",
              "      <td>Jaime Lannister PARENT_OF Myrcella Baratheon</td>\n",
              "      <td>2943</td>\n",
              "      <td>-0.206157</td>\n",
              "      <td>0.448642</td>\n",
              "    </tr>\n",
              "    <tr>\n",
              "      <th>0</th>\n",
              "      <td>Jorah Mormont SPOUSE Daenerys Targaryen</td>\n",
              "      <td>2450</td>\n",
              "      <td>-0.201870</td>\n",
              "      <td>0.449703</td>\n",
              "    </tr>\n",
              "    <tr>\n",
              "      <th>8</th>\n",
              "      <td>House Tyrell of Highgarden IN_REGION Beyond th...</td>\n",
              "      <td>2155</td>\n",
              "      <td>-0.131669</td>\n",
              "      <td>0.467130</td>\n",
              "    </tr>\n",
              "    <tr>\n",
              "      <th>2</th>\n",
              "      <td>King's Landing SEAT_OF House Lannister of Cast...</td>\n",
              "      <td>1724</td>\n",
              "      <td>-0.015005</td>\n",
              "      <td>0.496249</td>\n",
              "    </tr>\n",
              "    <tr>\n",
              "      <th>11</th>\n",
              "      <td>Rhaegar Targaryen PARENT_OF Jon Snow</td>\n",
              "      <td>2176</td>\n",
              "      <td>0.039815</td>\n",
              "      <td>0.509952</td>\n",
              "    </tr>\n",
              "    <tr>\n",
              "      <th>4</th>\n",
              "      <td>Daenerys Targaryen SPOUSE Jon Snow</td>\n",
              "      <td>1371</td>\n",
              "      <td>0.164007</td>\n",
              "      <td>0.540910</td>\n",
              "    </tr>\n",
              "    <tr>\n",
              "      <th>14</th>\n",
              "      <td>Daenerys Targaryen ALLIED_WITH House Lannister...</td>\n",
              "      <td>838</td>\n",
              "      <td>0.555430</td>\n",
              "      <td>0.635395</td>\n",
              "    </tr>\n",
              "    <tr>\n",
              "      <th>17</th>\n",
              "      <td>Cersei Lannister PARENT_OF Myrcella Baratheon</td>\n",
              "      <td>491</td>\n",
              "      <td>0.634269</td>\n",
              "      <td>0.653457</td>\n",
              "    </tr>\n",
              "    <tr>\n",
              "      <th>19</th>\n",
              "      <td>Tywin Lannister PARENT_OF Jaime Lannister</td>\n",
              "      <td>290</td>\n",
              "      <td>0.813546</td>\n",
              "      <td>0.692865</td>\n",
              "    </tr>\n",
              "    <tr>\n",
              "      <th>7</th>\n",
              "      <td>House Stark of Winterfell IN_REGION Dorne</td>\n",
              "      <td>129</td>\n",
              "      <td>1.334612</td>\n",
              "      <td>0.791603</td>\n",
              "    </tr>\n",
              "    <tr>\n",
              "      <th>13</th>\n",
              "      <td>Daenerys Targaryen ALLIED_WITH House Stark of ...</td>\n",
              "      <td>224</td>\n",
              "      <td>1.390059</td>\n",
              "      <td>0.800602</td>\n",
              "    </tr>\n",
              "    <tr>\n",
              "      <th>16</th>\n",
              "      <td>Robert I Baratheon PARENT_OF Myrcella Baratheon</td>\n",
              "      <td>21</td>\n",
              "      <td>1.921836</td>\n",
              "      <td>0.872343</td>\n",
              "    </tr>\n",
              "    <tr>\n",
              "      <th>3</th>\n",
              "      <td>Sansa Stark SPOUSE Petyr Baelish</td>\n",
              "      <td>29</td>\n",
              "      <td>2.685798</td>\n",
              "      <td>0.936183</td>\n",
              "    </tr>\n",
              "    <tr>\n",
              "      <th>20</th>\n",
              "      <td>Missandei SPOUSE Grey Worm</td>\n",
              "      <td>78</td>\n",
              "      <td>2.945523</td>\n",
              "      <td>0.950051</td>\n",
              "    </tr>\n",
              "    <tr>\n",
              "      <th>6</th>\n",
              "      <td>House Stark of Winterfell IN_REGION The North</td>\n",
              "      <td>9</td>\n",
              "      <td>3.121474</td>\n",
              "      <td>0.957770</td>\n",
              "    </tr>\n",
              "    <tr>\n",
              "      <th>12</th>\n",
              "      <td>House Hutcheson SWORN_TO House Tyrell of Highg...</td>\n",
              "      <td>10</td>\n",
              "      <td>3.323203</td>\n",
              "      <td>0.965216</td>\n",
              "    </tr>\n",
              "  </tbody>\n",
              "</table>\n",
              "</div>"
            ],
            "text/plain": [
              "                                            statement  rank     score      prob\n",
              "10  Brandon Stark ALLIED_WITH House Lannister of C...  4017 -3.814219  0.021579\n",
              "18           Cersei Lannister PARENT_OF Brandon Stark  4083 -1.994111  0.119823\n",
              "9   Brandon Stark ALLIED_WITH House Stark of Winte...  2995 -0.747190  0.321434\n",
              "1                   Tyrion Lannister SPOUSE Missandei  3389 -0.740519  0.322891\n",
              "21            Brienne of Tarth SPOUSE Jaime Lannister  3493 -0.702409  0.331278\n",
              "5                   Daenerys Targaryen SPOUSE Craster  3319 -0.702271  0.331309\n",
              "15       Jaime Lannister PARENT_OF Myrcella Baratheon  2943 -0.206157  0.448642\n",
              "0             Jorah Mormont SPOUSE Daenerys Targaryen  2450 -0.201870  0.449703\n",
              "8   House Tyrell of Highgarden IN_REGION Beyond th...  2155 -0.131669  0.467130\n",
              "2   King's Landing SEAT_OF House Lannister of Cast...  1724 -0.015005  0.496249\n",
              "11               Rhaegar Targaryen PARENT_OF Jon Snow  2176  0.039815  0.509952\n",
              "4                  Daenerys Targaryen SPOUSE Jon Snow  1371  0.164007  0.540910\n",
              "14  Daenerys Targaryen ALLIED_WITH House Lannister...   838  0.555430  0.635395\n",
              "17      Cersei Lannister PARENT_OF Myrcella Baratheon   491  0.634269  0.653457\n",
              "19          Tywin Lannister PARENT_OF Jaime Lannister   290  0.813546  0.692865\n",
              "7           House Stark of Winterfell IN_REGION Dorne   129  1.334612  0.791603\n",
              "13  Daenerys Targaryen ALLIED_WITH House Stark of ...   224  1.390059  0.800602\n",
              "16    Robert I Baratheon PARENT_OF Myrcella Baratheon    21  1.921836  0.872343\n",
              "3                    Sansa Stark SPOUSE Petyr Baelish    29  2.685798  0.936183\n",
              "20                         Missandei SPOUSE Grey Worm    78  2.945523  0.950051\n",
              "6       House Stark of Winterfell IN_REGION The North     9  3.121474  0.957770\n",
              "12  House Hutcheson SWORN_TO House Tyrell of Highg...    10  3.323203  0.965216"
            ]
          },
          "metadata": {
            "tags": []
          },
          "execution_count": 51
        }
      ]
    },
    {
      "cell_type": "markdown",
      "metadata": {
        "id": "mRreUN971EhA",
        "colab_type": "text"
      },
      "source": [
        "#Holographic Embeddings\n",
        "Скоринговая функция данной модели выражается через функцию ComplEx модели следующим образом Fhole = (2/n) * Fcomplex. Эти 2 модели являются прямо пропорциональнымии для наших данных результаы показываемые последними двумя моделями довольно близки, однако в ряде случае качество этих двух моделей может значительно отличатся что описано в статье Complex and Holographic Embeddings of Knowledge Graphs:A Comparison"
      ]
    },
    {
      "cell_type": "code",
      "metadata": {
        "id": "FltZwPIden81",
        "colab_type": "code",
        "outputId": "5da1e845-68e3-4a12-c8f7-039fa567964c",
        "colab": {
          "base_uri": "https://localhost:8080/",
          "height": 739
        }
      },
      "source": [
        "pd.DataFrame(list(zip([' '.join(x) for x in X_unseen], \n",
        "                      ranks_unseenHolE, \n",
        "                      np.squeeze(scoresHolE),\n",
        "                      np.squeeze(probsHolE))), \n",
        "             columns=['statement', 'rank', 'score', 'prob']).sort_values(\"score\")"
      ],
      "execution_count": 52,
      "outputs": [
        {
          "output_type": "execute_result",
          "data": {
            "text/html": [
              "<div>\n",
              "<style scoped>\n",
              "    .dataframe tbody tr th:only-of-type {\n",
              "        vertical-align: middle;\n",
              "    }\n",
              "\n",
              "    .dataframe tbody tr th {\n",
              "        vertical-align: top;\n",
              "    }\n",
              "\n",
              "    .dataframe thead th {\n",
              "        text-align: right;\n",
              "    }\n",
              "</style>\n",
              "<table border=\"1\" class=\"dataframe\">\n",
              "  <thead>\n",
              "    <tr style=\"text-align: right;\">\n",
              "      <th></th>\n",
              "      <th>statement</th>\n",
              "      <th>rank</th>\n",
              "      <th>score</th>\n",
              "      <th>prob</th>\n",
              "    </tr>\n",
              "  </thead>\n",
              "  <tbody>\n",
              "    <tr>\n",
              "      <th>10</th>\n",
              "      <td>Brandon Stark ALLIED_WITH House Lannister of C...</td>\n",
              "      <td>4010</td>\n",
              "      <td>-3.461155</td>\n",
              "      <td>0.030438</td>\n",
              "    </tr>\n",
              "    <tr>\n",
              "      <th>18</th>\n",
              "      <td>Cersei Lannister PARENT_OF Brandon Stark</td>\n",
              "      <td>3935</td>\n",
              "      <td>-0.496292</td>\n",
              "      <td>0.378412</td>\n",
              "    </tr>\n",
              "    <tr>\n",
              "      <th>5</th>\n",
              "      <td>Daenerys Targaryen SPOUSE Craster</td>\n",
              "      <td>2913</td>\n",
              "      <td>-0.255380</td>\n",
              "      <td>0.436500</td>\n",
              "    </tr>\n",
              "    <tr>\n",
              "      <th>8</th>\n",
              "      <td>House Tyrell of Highgarden IN_REGION Beyond th...</td>\n",
              "      <td>2904</td>\n",
              "      <td>-0.148639</td>\n",
              "      <td>0.462908</td>\n",
              "    </tr>\n",
              "    <tr>\n",
              "      <th>1</th>\n",
              "      <td>Tyrion Lannister SPOUSE Missandei</td>\n",
              "      <td>2679</td>\n",
              "      <td>-0.133798</td>\n",
              "      <td>0.466600</td>\n",
              "    </tr>\n",
              "    <tr>\n",
              "      <th>11</th>\n",
              "      <td>Rhaegar Targaryen PARENT_OF Jon Snow</td>\n",
              "      <td>1939</td>\n",
              "      <td>0.002664</td>\n",
              "      <td>0.500666</td>\n",
              "    </tr>\n",
              "    <tr>\n",
              "      <th>4</th>\n",
              "      <td>Daenerys Targaryen SPOUSE Jon Snow</td>\n",
              "      <td>1214</td>\n",
              "      <td>0.034547</td>\n",
              "      <td>0.508636</td>\n",
              "    </tr>\n",
              "    <tr>\n",
              "      <th>21</th>\n",
              "      <td>Brienne of Tarth SPOUSE Jaime Lannister</td>\n",
              "      <td>1564</td>\n",
              "      <td>0.036938</td>\n",
              "      <td>0.509233</td>\n",
              "    </tr>\n",
              "    <tr>\n",
              "      <th>15</th>\n",
              "      <td>Jaime Lannister PARENT_OF Myrcella Baratheon</td>\n",
              "      <td>1346</td>\n",
              "      <td>0.045614</td>\n",
              "      <td>0.511402</td>\n",
              "    </tr>\n",
              "    <tr>\n",
              "      <th>2</th>\n",
              "      <td>King's Landing SEAT_OF House Lannister of Cast...</td>\n",
              "      <td>811</td>\n",
              "      <td>0.300612</td>\n",
              "      <td>0.574592</td>\n",
              "    </tr>\n",
              "    <tr>\n",
              "      <th>19</th>\n",
              "      <td>Tywin Lannister PARENT_OF Jaime Lannister</td>\n",
              "      <td>93</td>\n",
              "      <td>0.508757</td>\n",
              "      <td>0.624515</td>\n",
              "    </tr>\n",
              "    <tr>\n",
              "      <th>7</th>\n",
              "      <td>House Stark of Winterfell IN_REGION Dorne</td>\n",
              "      <td>456</td>\n",
              "      <td>0.538007</td>\n",
              "      <td>0.631349</td>\n",
              "    </tr>\n",
              "    <tr>\n",
              "      <th>14</th>\n",
              "      <td>Daenerys Targaryen ALLIED_WITH House Lannister...</td>\n",
              "      <td>448</td>\n",
              "      <td>0.764989</td>\n",
              "      <td>0.682436</td>\n",
              "    </tr>\n",
              "    <tr>\n",
              "      <th>0</th>\n",
              "      <td>Jorah Mormont SPOUSE Daenerys Targaryen</td>\n",
              "      <td>254</td>\n",
              "      <td>0.834895</td>\n",
              "      <td>0.697389</td>\n",
              "    </tr>\n",
              "    <tr>\n",
              "      <th>20</th>\n",
              "      <td>Missandei SPOUSE Grey Worm</td>\n",
              "      <td>74</td>\n",
              "      <td>1.452677</td>\n",
              "      <td>0.810410</td>\n",
              "    </tr>\n",
              "    <tr>\n",
              "      <th>17</th>\n",
              "      <td>Cersei Lannister PARENT_OF Myrcella Baratheon</td>\n",
              "      <td>5</td>\n",
              "      <td>1.481980</td>\n",
              "      <td>0.814871</td>\n",
              "    </tr>\n",
              "    <tr>\n",
              "      <th>13</th>\n",
              "      <td>Daenerys Targaryen ALLIED_WITH House Stark of ...</td>\n",
              "      <td>81</td>\n",
              "      <td>1.623066</td>\n",
              "      <td>0.835217</td>\n",
              "    </tr>\n",
              "    <tr>\n",
              "      <th>16</th>\n",
              "      <td>Robert I Baratheon PARENT_OF Myrcella Baratheon</td>\n",
              "      <td>5</td>\n",
              "      <td>1.631909</td>\n",
              "      <td>0.836431</td>\n",
              "    </tr>\n",
              "    <tr>\n",
              "      <th>9</th>\n",
              "      <td>Brandon Stark ALLIED_WITH House Stark of Winte...</td>\n",
              "      <td>43</td>\n",
              "      <td>2.204627</td>\n",
              "      <td>0.900664</td>\n",
              "    </tr>\n",
              "    <tr>\n",
              "      <th>3</th>\n",
              "      <td>Sansa Stark SPOUSE Petyr Baelish</td>\n",
              "      <td>9</td>\n",
              "      <td>2.407359</td>\n",
              "      <td>0.917387</td>\n",
              "    </tr>\n",
              "    <tr>\n",
              "      <th>6</th>\n",
              "      <td>House Stark of Winterfell IN_REGION The North</td>\n",
              "      <td>2</td>\n",
              "      <td>3.090334</td>\n",
              "      <td>0.956492</td>\n",
              "    </tr>\n",
              "    <tr>\n",
              "      <th>12</th>\n",
              "      <td>House Hutcheson SWORN_TO House Tyrell of Highg...</td>\n",
              "      <td>8</td>\n",
              "      <td>4.659970</td>\n",
              "      <td>0.990622</td>\n",
              "    </tr>\n",
              "  </tbody>\n",
              "</table>\n",
              "</div>"
            ],
            "text/plain": [
              "                                            statement  rank     score      prob\n",
              "10  Brandon Stark ALLIED_WITH House Lannister of C...  4010 -3.461155  0.030438\n",
              "18           Cersei Lannister PARENT_OF Brandon Stark  3935 -0.496292  0.378412\n",
              "5                   Daenerys Targaryen SPOUSE Craster  2913 -0.255380  0.436500\n",
              "8   House Tyrell of Highgarden IN_REGION Beyond th...  2904 -0.148639  0.462908\n",
              "1                   Tyrion Lannister SPOUSE Missandei  2679 -0.133798  0.466600\n",
              "11               Rhaegar Targaryen PARENT_OF Jon Snow  1939  0.002664  0.500666\n",
              "4                  Daenerys Targaryen SPOUSE Jon Snow  1214  0.034547  0.508636\n",
              "21            Brienne of Tarth SPOUSE Jaime Lannister  1564  0.036938  0.509233\n",
              "15       Jaime Lannister PARENT_OF Myrcella Baratheon  1346  0.045614  0.511402\n",
              "2   King's Landing SEAT_OF House Lannister of Cast...   811  0.300612  0.574592\n",
              "19          Tywin Lannister PARENT_OF Jaime Lannister    93  0.508757  0.624515\n",
              "7           House Stark of Winterfell IN_REGION Dorne   456  0.538007  0.631349\n",
              "14  Daenerys Targaryen ALLIED_WITH House Lannister...   448  0.764989  0.682436\n",
              "0             Jorah Mormont SPOUSE Daenerys Targaryen   254  0.834895  0.697389\n",
              "20                         Missandei SPOUSE Grey Worm    74  1.452677  0.810410\n",
              "17      Cersei Lannister PARENT_OF Myrcella Baratheon     5  1.481980  0.814871\n",
              "13  Daenerys Targaryen ALLIED_WITH House Stark of ...    81  1.623066  0.835217\n",
              "16    Robert I Baratheon PARENT_OF Myrcella Baratheon     5  1.631909  0.836431\n",
              "9   Brandon Stark ALLIED_WITH House Stark of Winte...    43  2.204627  0.900664\n",
              "3                    Sansa Stark SPOUSE Petyr Baelish     9  2.407359  0.917387\n",
              "6       House Stark of Winterfell IN_REGION The North     2  3.090334  0.956492\n",
              "12  House Hutcheson SWORN_TO House Tyrell of Highg...     8  4.659970  0.990622"
            ]
          },
          "metadata": {
            "tags": []
          },
          "execution_count": 52
        }
      ]
    },
    {
      "cell_type": "markdown",
      "metadata": {
        "id": "BRS4v9HL41nf",
        "colab_type": "text"
      },
      "source": [
        "#Выводы\n",
        "Как мы можем заметить результаты работы моделей не слишком разнятся однако мы все же можем выделить модель показавшую себя хуже всего (TransE) и модель показавшую лучшие результаты на наших данных (Holographic Embeddings). Однако все они информотивны, так как работают заметно лучше фиктивной модели использующей случайный скоринг."
      ]
    }
  ]
}